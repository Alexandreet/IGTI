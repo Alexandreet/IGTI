{
 "cells": [
  {
   "cell_type": "code",
   "execution_count": 1,
   "metadata": {},
   "outputs": [],
   "source": [
    "#Importação de bibliotecas\n",
    "import numpy as np\n",
    "from sklearn import datasets, linear_model\n",
    "import matplotlib.pyplot as plt\n",
    "from sklearn.metrics import mean_squared_error, r2_score"
   ]
  },
  {
   "cell_type": "code",
   "execution_count": 13,
   "metadata": {},
   "outputs": [],
   "source": [
    "#Duas variáveis usadas para comparação\n",
    "receita = np.array([2,15,25,35,45,55,65,75,80,85,32,62,2,15,25,35,45,55,65,75,80,85,32,62])\n",
    "pecro = np.array([10,20,14,32,22,38,41,52,55,61,21,44,10,20,14,32,22,38,41,52,55,61,21,44])"
   ]
  },
  {
   "cell_type": "code",
   "execution_count": 14,
   "metadata": {},
   "outputs": [
    {
     "data": {
      "image/png": "[encoded data removed]",
      "text/plain": [
       "<Figure size 432x288 with 1 Axes>"
      ]
     },
     "metadata": {
      "needs_background": "light"
     },
     "output_type": "display_data"
    }
   ],
   "source": [
    "#Plotando grafico comparativo\n",
    "plt.scatter(receita,pecro, color='black')\n",
    "plt.show()"
   ]
  },
  {
   "cell_type": "code",
   "execution_count": 15,
   "metadata": {},
   "outputs": [],
   "source": [
    "#Criando o modelo de regressão linear\n",
    "receita = np.array([2,15,25,35,45,55,65,75,80,85,32,62,2,15,25,35,45,55,65,75,80,85,32,62])\n",
    "pecro = np.array([10,20,14,32,22,38,41,52,55,61,21,44,10,20,14,32,22,38,41,52,55,61,21,44])\n",
    "\n",
    "regr = linear_model.LinearRegression()\n",
    "regr.fit(receita.reshape(-1,1),pecro)\n",
    "y = regr.predict(receita.reshape(-1,1))"
   ]
  },
  {
   "cell_type": "code",
   "execution_count": 16,
   "metadata": {},
   "outputs": [
    {
     "name": "stdout",
     "output_type": "stream",
     "text": [
      "Coefficients: /n [0.60582822]\n",
      "Intercept: /n 5.08691206543967\n"
     ]
    }
   ],
   "source": [
    "#Imprimindo o coeficiente da regrassão linear\n",
    "print('Coefficients: /n', regr.coef_)\n",
    "#Imprindo o ponto que será cruzado no eixo Y se linha continuar\n",
    "print('Intercept: /n', regr.intercept_)"
   ]
  },
  {
   "cell_type": "code",
   "execution_count": 17,
   "metadata": {},
   "outputs": [
    {
     "data": {
      "text/plain": [
       "[<matplotlib.lines.Line2D at 0x7fb5891723d0>]"
      ]
     },
     "execution_count": 17,
     "metadata": {},
     "output_type": "execute_result"
    },
    {
     "data": {
      "image/png": "[encoded data removed]",
      "text/plain": [
       "<Figure size 432x288 with 1 Axes>"
      ]
     },
     "metadata": {
      "needs_background": "light"
     },
     "output_type": "display_data"
    }
   ],
   "source": [
    "plt.scatter(receita,pecro, color='black')\n",
    "plt.plot(receita, y, color='blue', linewidth=3)"
   ]
  },
  {
   "cell_type": "code",
   "execution_count": null,
   "metadata": {},
   "outputs": [],
   "source": []
  }
 ],
 "metadata": {
  "kernelspec": {
   "display_name": "Python 3",
   "language": "python",
   "name": "python3"
  },
  "language_info": {
   "codemirror_mode": {
    "name": "ipython",
    "version": 3
   },
   "file_extension": ".py",
   "mimetype": "text/x-python",
   "name": "python",
   "nbconvert_exporter": "python",
   "pygments_lexer": "ipython3",
   "version": "3.7.6"
  }
 },
 "nbformat": 4,
 "nbformat_minor": 4
}
