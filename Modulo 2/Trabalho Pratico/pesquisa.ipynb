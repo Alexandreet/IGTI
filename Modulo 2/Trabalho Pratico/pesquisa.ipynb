{
 "cells": [
  {
   "cell_type": "code",
   "execution_count": 1,
   "metadata": {},
   "outputs": [],
   "source": [
    "import pandas as pd\n",
    "import os "
   ]
  },
  {
   "cell_type": "code",
   "execution_count": 2,
   "metadata": {},
   "outputs": [],
   "source": [
    "DIRETORIO = '/Users/macbook/Documents/Projects Github/IGTI/Modulo 2/Trabalho Pratico/base_trabalho_pratico'"
   ]
  },
  {
   "cell_type": "code",
   "execution_count": 3,
   "metadata": {},
   "outputs": [],
   "source": [
    "lista_df = [] # cria uma lista\n",
    "lista_path = os.listdir(DIRETORIO) "
   ]
  },
  {
   "cell_type": "code",
   "execution_count": 6,
   "metadata": {},
   "outputs": [
    {
     "data": {
      "text/plain": [
       "['2020-12-03.csv', '2020-12-17.csv', '2020-02-12.csv']"
      ]
     },
     "execution_count": 6,
     "metadata": {},
     "output_type": "execute_result"
    }
   ],
   "source": [
    "lista_path[:3]"
   ]
  },
  {
   "cell_type": "code",
   "execution_count": 24,
   "metadata": {},
   "outputs": [],
   "source": [
    "lista_df = [] # cria uma lista vazia\n",
    "for arquivo in lista_path:\n",
    "    local_arquivo = os.path.join(DIRETORIO, arquivo)\n",
    "    df = pd.read_csv(local_arquivo, sep = '|', encoding='latin-1')\n",
    "    lista_df.append(df)\n",
    "df_pesquisa = pd.concat(lista_df) # Atribui os dados coletados em um dataframe"
   ]
  },
  {
   "cell_type": "code",
   "execution_count": 25,
   "metadata": {},
   "outputs": [
    {
     "data": {
      "text/html": [
       "<div>\n",
       "<style scoped>\n",
       "    .dataframe tbody tr th:only-of-type {\n",
       "        vertical-align: middle;\n",
       "    }\n",
       "\n",
       "    .dataframe tbody tr th {\n",
       "        vertical-align: top;\n",
       "    }\n",
       "\n",
       "    .dataframe thead th {\n",
       "        text-align: right;\n",
       "    }\n",
       "</style>\n",
       "<table border=\"1\" class=\"dataframe\">\n",
       "  <thead>\n",
       "    <tr style=\"text-align: right;\">\n",
       "      <th></th>\n",
       "      <th>cod_pessoa</th>\n",
       "      <th>data_coleta</th>\n",
       "      <th>genero</th>\n",
       "      <th>data_nascimento</th>\n",
       "      <th>animal_estimacao</th>\n",
       "      <th>clima</th>\n",
       "      <th>bebida_favorita</th>\n",
       "      <th>hobbies</th>\n",
       "    </tr>\n",
       "  </thead>\n",
       "  <tbody>\n",
       "    <tr>\n",
       "      <th>0</th>\n",
       "      <td>10142119</td>\n",
       "      <td>2020-12-03</td>\n",
       "      <td>Feminino</td>\n",
       "      <td>1969-08-27</td>\n",
       "      <td>gato</td>\n",
       "      <td>quente</td>\n",
       "      <td>Vinho</td>\n",
       "      <td>Escutar música</td>\n",
       "    </tr>\n",
       "    <tr>\n",
       "      <th>1</th>\n",
       "      <td>10142614</td>\n",
       "      <td>2020-12-03</td>\n",
       "      <td>Masculino</td>\n",
       "      <td>1953-05-13</td>\n",
       "      <td>peixe</td>\n",
       "      <td>quente</td>\n",
       "      <td>Água</td>\n",
       "      <td>Pintar quadros</td>\n",
       "    </tr>\n",
       "    <tr>\n",
       "      <th>2</th>\n",
       "      <td>10142907</td>\n",
       "      <td>2020-12-03</td>\n",
       "      <td>Masculino</td>\n",
       "      <td>1971-10-20</td>\n",
       "      <td>gato</td>\n",
       "      <td>frio</td>\n",
       "      <td>Cerveja</td>\n",
       "      <td>Assistir TV</td>\n",
       "    </tr>\n",
       "    <tr>\n",
       "      <th>3</th>\n",
       "      <td>10143437</td>\n",
       "      <td>2020-12-03</td>\n",
       "      <td>Feminino</td>\n",
       "      <td>1950-01-02</td>\n",
       "      <td>peixe</td>\n",
       "      <td>quente</td>\n",
       "      <td>Café</td>\n",
       "      <td>Escrever</td>\n",
       "    </tr>\n",
       "    <tr>\n",
       "      <th>4</th>\n",
       "      <td>10143569</td>\n",
       "      <td>2020-12-03</td>\n",
       "      <td>Masculino</td>\n",
       "      <td>1955-06-08</td>\n",
       "      <td>gato</td>\n",
       "      <td>moderado</td>\n",
       "      <td>Vinho</td>\n",
       "      <td>Escrever</td>\n",
       "    </tr>\n",
       "    <tr>\n",
       "      <th>0</th>\n",
       "      <td>10141928</td>\n",
       "      <td>2020-12-17</td>\n",
       "      <td>Feminino</td>\n",
       "      <td>1971-08-07</td>\n",
       "      <td>cachorro</td>\n",
       "      <td>moderado</td>\n",
       "      <td>refrigerante</td>\n",
       "      <td>Pintar quadros</td>\n",
       "    </tr>\n",
       "    <tr>\n",
       "      <th>1</th>\n",
       "      <td>10142254</td>\n",
       "      <td>2020-12-17</td>\n",
       "      <td>Masculino</td>\n",
       "      <td>1986-01-28</td>\n",
       "      <td>gato</td>\n",
       "      <td>quente</td>\n",
       "      <td>Água</td>\n",
       "      <td>Dormir</td>\n",
       "    </tr>\n",
       "    <tr>\n",
       "      <th>2</th>\n",
       "      <td>10142505</td>\n",
       "      <td>2020-12-17</td>\n",
       "      <td>Masculino</td>\n",
       "      <td>1999-07-18</td>\n",
       "      <td>gato</td>\n",
       "      <td>quente</td>\n",
       "      <td>Chá</td>\n",
       "      <td>Escutar música</td>\n",
       "    </tr>\n",
       "    <tr>\n",
       "      <th>0</th>\n",
       "      <td>10142462</td>\n",
       "      <td>2020-02-12</td>\n",
       "      <td>Masculino</td>\n",
       "      <td>1981-10-12</td>\n",
       "      <td>peixe</td>\n",
       "      <td>frio</td>\n",
       "      <td>Café</td>\n",
       "      <td>Escutar música</td>\n",
       "    </tr>\n",
       "    <tr>\n",
       "      <th>0</th>\n",
       "      <td>10141528</td>\n",
       "      <td>2020-02-06</td>\n",
       "      <td>Masculino</td>\n",
       "      <td>1952-05-09</td>\n",
       "      <td>gato</td>\n",
       "      <td>moderado</td>\n",
       "      <td>refrigerante</td>\n",
       "      <td>Escutar música</td>\n",
       "    </tr>\n",
       "  </tbody>\n",
       "</table>\n",
       "</div>"
      ],
      "text/plain": [
       "   cod_pessoa data_coleta     genero data_nascimento animal_estimacao  \\\n",
       "0    10142119  2020-12-03   Feminino      1969-08-27             gato   \n",
       "1    10142614  2020-12-03  Masculino      1953-05-13            peixe   \n",
       "2    10142907  2020-12-03  Masculino      1971-10-20             gato   \n",
       "3    10143437  2020-12-03   Feminino      1950-01-02            peixe   \n",
       "4    10143569  2020-12-03  Masculino      1955-06-08             gato   \n",
       "0    10141928  2020-12-17   Feminino      1971-08-07         cachorro   \n",
       "1    10142254  2020-12-17  Masculino      1986-01-28             gato   \n",
       "2    10142505  2020-12-17  Masculino      1999-07-18             gato   \n",
       "0    10142462  2020-02-12  Masculino      1981-10-12            peixe   \n",
       "0    10141528  2020-02-06  Masculino      1952-05-09             gato   \n",
       "\n",
       "      clima bebida_favorita         hobbies  \n",
       "0    quente           Vinho  Escutar música  \n",
       "1    quente            Água  Pintar quadros  \n",
       "2      frio         Cerveja     Assistir TV  \n",
       "3    quente            Café        Escrever  \n",
       "4  moderado           Vinho        Escrever  \n",
       "0  moderado    refrigerante  Pintar quadros  \n",
       "1    quente            Água          Dormir  \n",
       "2    quente             Chá  Escutar música  \n",
       "0      frio            Café  Escutar música  \n",
       "0  moderado    refrigerante  Escutar música  "
      ]
     },
     "execution_count": 25,
     "metadata": {},
     "output_type": "execute_result"
    }
   ],
   "source": [
    "df_pesquisa[:10]"
   ]
  },
  {
   "cell_type": "code",
   "execution_count": null,
   "metadata": {},
   "outputs": [],
   "source": []
  }
 ],
 "metadata": {
  "kernelspec": {
   "display_name": "Python 3",
   "language": "python",
   "name": "python3"
  },
  "language_info": {
   "codemirror_mode": {
    "name": "ipython",
    "version": 3
   },
   "file_extension": ".py",
   "mimetype": "text/x-python",
   "name": "python",
   "nbconvert_exporter": "python",
   "pygments_lexer": "ipython3",
   "version": "3.7.6"
  }
 },
 "nbformat": 4,
 "nbformat_minor": 4
}
