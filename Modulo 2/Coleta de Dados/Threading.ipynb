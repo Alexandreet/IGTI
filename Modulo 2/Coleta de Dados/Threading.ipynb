{
 "cells": [
  {
   "cell_type": "markdown",
   "metadata": {},
   "source": [
    "## Threading\n",
    "\n",
    "Threading é um tipo de processamento paralelo para o python, já é uma biblioteca nativa e é utilizado principalmente para funções que precisão estar sendo executadas continuamente, em paralelo com o código (normamente de tempo em tempo).\n",
    "Para utilizar o Threading é necessário executar uma função, por isso no exemplo a baixo vamos imprimir em paralelo a cada 5 segundos os items da função Fish_hunt e a cada 2 segundos os da função sell.\n",
    "\n",
    "(exemplo foi utilizado para a resolução do problema no StackOverflow [https://stackoverflow.com/questions/67113394/how-do-i-add-different-delays/67115193#67115193]).\n",
    "\n",
    "#### Se não houver interrupção o threading neste caso de um loop continuará infinitamente!"
   ]
  },
  {
   "cell_type": "code",
   "execution_count": 2,
   "metadata": {},
   "outputs": [
    {
     "name": "stdout",
     "output_type": "stream",
     "text": [
      "sell\n",
      "enter\n",
      "fishsell\n",
      "enter\n",
      "hunt\n",
      "enter\n",
      "\n",
      "enter\n",
      "sell\n",
      "enter\n",
      "sell\n",
      "enter\n",
      "fish\n",
      "enter\n",
      "hunt\n",
      "enter\n",
      "sell\n",
      "enter\n",
      "sell\n",
      "enter\n",
      "fish\n",
      "enter\n",
      "hunt\n",
      "enter\n",
      "sell\n",
      "enter\n",
      "sell\n",
      "enter\n",
      "sell\n",
      "enter\n",
      "sell\n",
      "enter\n",
      "fish\n",
      "enter\n",
      "hunt\n",
      "enter\n",
      "sell\n",
      "enter\n",
      "fish\n",
      "enter\n",
      "hunt\n",
      "enter\n",
      "sell\n",
      "enter\n",
      "sell\n",
      "enter\n",
      "sell\n",
      "enter\n",
      "fish\n",
      "enter\n",
      "hunt\n",
      "enter\n",
      "sell\n",
      "enter\n",
      "sell\n",
      "enter\n"
     ]
    }
   ],
   "source": [
    "import time\n",
    "import threading\n",
    "\n",
    "def wait(seconds):\n",
    "    time.sleep(seconds)\n",
    "\n",
    "def fish_hunt():\n",
    "    running = True\n",
    "    while running == True:\n",
    "        print(\"fish\")\n",
    "        print('enter')\n",
    "        print(\"hunt\")\n",
    "        print('enter')\n",
    "        wait(5)\n",
    "    \n",
    "def sell():\n",
    "    running = True\n",
    "    while running == True:\n",
    "        print(\"sell\")\n",
    "        print('enter')\n",
    "        wait(2)\n",
    "    \n",
    "threading.Thread(target=fish_hunt).start()\n",
    "threading.Thread(target=sell).start()"
   ]
  },
  {
   "cell_type": "code",
   "execution_count": null,
   "metadata": {},
   "outputs": [],
   "source": []
  }
 ],
 "metadata": {
  "kernelspec": {
   "display_name": "Python 3",
   "language": "python",
   "name": "python3"
  },
  "language_info": {
   "codemirror_mode": {
    "name": "ipython",
    "version": 3
   },
   "file_extension": ".py",
   "mimetype": "text/x-python",
   "name": "python",
   "nbconvert_exporter": "python",
   "pygments_lexer": "ipython3",
   "version": "3.7.6"
  }
 },
 "nbformat": 4,
 "nbformat_minor": 4
}
