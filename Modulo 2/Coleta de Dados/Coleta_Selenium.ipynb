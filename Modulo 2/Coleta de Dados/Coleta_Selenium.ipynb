{
 "cells": [
  {
   "cell_type": "markdown",
   "metadata": {},
   "source": [
    "Explicação para este jupyter está dentro da pasta Coleta de Dados Explicação/Selenium"
   ]
  },
  {
   "cell_type": "markdown",
   "metadata": {},
   "source": [
    "#### Informações extraidas do site com o caminho para o Selenium fazer a execução da Coleta XPATH\n",
    "\n",
    "Site: https://veiculos.fipe.org.br/\n",
    "\n",
    "campo selecao inicial: //*[@id=\"front\"]/div[1]/div[2]/ul/li[1]/a  \n",
    "\n",
    "id da caixa de seleção://*[@id=\"selectTabelaReferenciacarro_chosen\"]\n",
    "\n",
    "xpath campo input: //*[@id=\"selectTabelaReferenciacarro_chosen\"]/div/div/input\n",
    "\n",
    "id campo marca: //*[@id=\"selectMarcacarro_chosen\"]\n",
    "xpath campo input: //*[@id=\"selectMarcacarro_chosen\"]/div/div/input\n",
    "\n",
    "id campo modelo: //*[@id=\"selectAnoModelocarro_chosen\"]\n",
    "xpath campo input: //*[@id=\"selectAnoModelocarro_chosen\"]/div/div/input\n",
    "\n",
    "id campo ano: //*[@id=\"selectAnocarro_chosen\"]\n",
    "xpath campo input: //*[@id=\"selectAnocarro_chosen\"]/div/div/input\n",
    "\n",
    "id do botao pesquisar: //*[@id=\"buttonPesquisarcarro\"]\n",
    "\n",
    "id tabela resultados: //*[@id=\"resultadoConsultacarroFiltros\"]\n",
    "\n",
    "id botão limpar o resultado: //*[@id=\"buttonLimparPesquisarcarro\"]"
   ]
  },
  {
   "cell_type": "code",
   "execution_count": null,
   "metadata": {},
   "outputs": [],
   "source": [
    "!pip install selenium==3.141.0"
   ]
  },
  {
   "cell_type": "code",
   "execution_count": 1,
   "metadata": {},
   "outputs": [
    {
     "name": "stdout",
     "output_type": "stream",
     "text": [
      "Versão utilizada 3.141.0\n"
     ]
    }
   ],
   "source": [
    "import selenium\n",
    "\n",
    "\n",
    "print(\"Versão utilizada\", selenium.__version__)"
   ]
  },
  {
   "cell_type": "code",
   "execution_count": 2,
   "metadata": {},
   "outputs": [],
   "source": [
    "from selenium import webdriver"
   ]
  },
  {
   "cell_type": "code",
   "execution_count": 9,
   "metadata": {},
   "outputs": [],
   "source": [
    "# Dados Site\n",
    "\n",
    "site = 'https://veiculos.fipe.org.br/'\n",
    "\n",
    "#Tipo consutla\n",
    "xpath_tipo_consulta = '//*[@id=\"front\"]/div[1]/div[2]/ul/li[1]/a'\n",
    "\n",
    "#Caixas de seleção\n",
    "id_marca_carro = 'selectMarcacarro_chosen'\n",
    "id_modelo_carro = 'selectAnoModelocarro_chosen'\n",
    "id_ano_carro = 'selectAnocarro_chosen'\n",
    "id_tabela_referencia = 'selectTabelaReferenciacarro_chosen'\n",
    "\n",
    "#botoes\n",
    "id_botao_limpar = 'buttonLimparPesquisarcarro'\n",
    "id_botao_pesquisa = 'buttonPesquisarcarro'\n",
    "\n",
    "#resultado da pesquisa\n",
    "id_resultado_filtros = 'resultadoConsultacarroFiltros'\n",
    "\n",
    "\n",
    "#informações do carro\n",
    "ano_veiculo = '2013'\n",
    "modelo_veiculo = 'Gol (novo) 1.0 Mi Total Flex 8V 4p'\n",
    "marca_veiculo = \"VW - VolksWagen\"\n",
    "\n",
    "\n",
    "#Caminho arquivo Web driver\n",
    "WEBDRIVER = '/opt/WebDriver/bin/chromedriver'"
   ]
  },
  {
   "cell_type": "code",
   "execution_count": 7,
   "metadata": {},
   "outputs": [],
   "source": [
    "def x_path_input(id_elemento):\n",
    "    return ' //*[@id=\"{}\"]/div/div/input'.format(id_elemento)"
   ]
  },
  {
   "cell_type": "code",
   "execution_count": 10,
   "metadata": {},
   "outputs": [],
   "source": [
    "#Tempo de espera para o navegador carregar\n",
    "import random\n",
    "import time\n",
    "\n",
    "def esperar(segundos=None):\n",
    "    if not segundos:\n",
    "        segundos = random.randrange(2,8)\n",
    "    time.sleep(segundos)"
   ]
  },
  {
   "cell_type": "code",
   "execution_count": 11,
   "metadata": {},
   "outputs": [],
   "source": [
    "# Abrindo o navegador, utilizando o drive do cromio\n",
    "driver = webdriver.Chrome(WEBDRIVER)\n",
    "driver.get(site)\n",
    "esperar(15) # espera 15 segunos para executar outra interação "
   ]
  },
  {
   "cell_type": "code",
   "execution_count": 12,
   "metadata": {},
   "outputs": [],
   "source": [
    "tipo_consulta = driver.find_element_by_xpath(xpath_tipo_consulta)\n",
    "tipo_consulta.click()"
   ]
  },
  {
   "cell_type": "code",
   "execution_count": 24,
   "metadata": {},
   "outputs": [],
   "source": [
    "pesquisa = driver.find_element_by_id(id_tabela_referencia)\n",
    "pesquisa.click() "
   ]
  },
  {
   "cell_type": "code",
   "execution_count": 25,
   "metadata": {},
   "outputs": [],
   "source": [
    "xpath = x_path_input(id_tabela_referencia)\n",
    "caixa = driver.find_element_by_xpath(xpath)"
   ]
  },
  {
   "cell_type": "code",
   "execution_count": 26,
   "metadata": {},
   "outputs": [],
   "source": [
    "from selenium.webdriver.common.keys import Keys\n",
    "caixa.send_keys('fevereiro/2021' + Keys.DOWN + Keys.RETURN)"
   ]
  },
  {
   "cell_type": "code",
   "execution_count": 27,
   "metadata": {},
   "outputs": [],
   "source": [
    "def prechence_item(id_elemento, texto_pesquisa):\n",
    "    pesquisa = driver.find_element_by_id(id_elemento)\n",
    "    pesquisa.click()\n",
    "    xpath = x_path_input(id_elemento)\n",
    "    caixa = driver.find_element_by_xpath(xpath)\n",
    "    caixa.send_keys(texto_pesquisa + Keys.DOWN + Keys.RETURN)\n",
    "    pesquisa.is_selecteds = False #retirar seleção\n",
    "    caixa.is_selecteds = False # retirar seleção"
   ]
  },
  {
   "cell_type": "code",
   "execution_count": 28,
   "metadata": {},
   "outputs": [],
   "source": [
    "#resumindo\n",
    "esperar()\n",
    "prechence_item(id_tabela_referencia, 'fevereiro/2021')"
   ]
  },
  {
   "cell_type": "code",
   "execution_count": 29,
   "metadata": {},
   "outputs": [],
   "source": [
    "esperar()\n",
    "prechence_item(id_marca_carro, marca_veiculo)"
   ]
  },
  {
   "cell_type": "code",
   "execution_count": 30,
   "metadata": {},
   "outputs": [],
   "source": [
    "esperar()\n",
    "prechence_item(id_modelo_carro, modelo_veiculo)"
   ]
  },
  {
   "cell_type": "code",
   "execution_count": 31,
   "metadata": {},
   "outputs": [],
   "source": [
    "#preencher ano\n",
    "esperar()\n",
    "prechence_item(id_ano_carro, ano_veiculo)"
   ]
  },
  {
   "cell_type": "code",
   "execution_count": 32,
   "metadata": {},
   "outputs": [],
   "source": [
    "#clicando em pesquisar\n",
    "esperar()\n",
    "buscar = driver.find_element_by_id(id_botao_pesquisa)\n",
    "buscar.click()"
   ]
  },
  {
   "cell_type": "code",
   "execution_count": 33,
   "metadata": {},
   "outputs": [
    {
     "data": {
      "text/plain": [
       "<tbody>\n",
       "<tr>\n",
       "<td class=\"noborder\"><p>Mês de referência:</p></td>\n",
       "<td><p>fevereiro de 2021 </p></td>\n",
       "</tr>\n",
       "<tr>\n",
       "<td class=\"noborder\"><p>Código Fipe:</p></td>\n",
       "<td><p>005275-2</p></td>\n",
       "</tr>\n",
       "<tr>\n",
       "<td class=\"noborder\"><p>Marca:</p></td>\n",
       "<td><p>VW - VolksWagen</p></td>\n",
       "</tr>\n",
       "<tr>\n",
       "<td class=\"noborder\"><p>Modelo:</p></td>\n",
       "<td><p>Gol (novo) 1.0 Mi Total Flex 8V 4p</p></td>\n",
       "</tr>\n",
       "<tr>\n",
       "<td class=\"noborder\"><p>Ano Modelo:</p></td>\n",
       "<td><p>2013 Gasolina</p></td>\n",
       "</tr>\n",
       "<tr>\n",
       "<td class=\"noborder\"><p>Autenticação</p></td>\n",
       "<td><p>l7sn2y2ymxnc</p></td>\n",
       "</tr>\n",
       "<tr>\n",
       "<td class=\"noborder\"><p>Data da consulta</p></td>\n",
       "<td><p>terça-feira, 30 de março de 2021 20:49</p></td>\n",
       "</tr>\n",
       "<tr class=\"last\">\n",
       "<td class=\"noborder\"><p>Preço Médio</p></td>\n",
       "<td><p>R$ 23.579,00</p></td>\n",
       "</tr>\n",
       "</tbody>"
      ]
     },
     "execution_count": 33,
     "metadata": {},
     "output_type": "execute_result"
    }
   ],
   "source": [
    "from bs4 import BeautifulSoup\n",
    "\n",
    "#copiando resultados resultados da tabela\n",
    "\n",
    "table = driver.find_element_by_id(id_resultado_filtros)\n",
    "html = table.get_attribute('innerHTML')\n",
    "parser = BeautifulSoup(html, \"html.parser\")\n",
    "table = parser.select_one('tbody')\n",
    "table"
   ]
  },
  {
   "cell_type": "code",
   "execution_count": 34,
   "metadata": {},
   "outputs": [],
   "source": [
    "import re\n",
    "regex_dados = re.compile('(<td><p>)(.*?)(</p></td>)')"
   ]
  },
  {
   "cell_type": "code",
   "execution_count": 35,
   "metadata": {},
   "outputs": [
    {
     "data": {
      "text/plain": [
       "[('<td><p>', 'fevereiro de 2021 ', '</p></td>'),\n",
       " ('<td><p>', '005275-2', '</p></td>'),\n",
       " ('<td><p>', 'VW - VolksWagen', '</p></td>'),\n",
       " ('<td><p>', 'Gol (novo) 1.0 Mi Total Flex 8V 4p', '</p></td>'),\n",
       " ('<td><p>', '2013 Gasolina', '</p></td>'),\n",
       " ('<td><p>', 'l7sn2y2ymxnc', '</p></td>'),\n",
       " ('<td><p>', 'terça-feira, 30 de março de 2021 20:49', '</p></td>'),\n",
       " ('<td><p>', 'R$ 23.579,00', '</p></td>')]"
      ]
     },
     "execution_count": 35,
     "metadata": {},
     "output_type": "execute_result"
    }
   ],
   "source": [
    "dados = regex_dados.findall(str(table))\n",
    "dados"
   ]
  },
  {
   "cell_type": "code",
   "execution_count": 36,
   "metadata": {},
   "outputs": [
    {
     "data": {
      "text/plain": [
       "['fevereiro de 2021 ',\n",
       " '005275-2',\n",
       " 'VW - VolksWagen',\n",
       " 'Gol (novo) 1.0 Mi Total Flex 8V 4p',\n",
       " '2013 Gasolina',\n",
       " 'l7sn2y2ymxnc',\n",
       " 'terça-feira, 30 de março de 2021 20:49',\n",
       " 'R$ 23.579,00']"
      ]
     },
     "execution_count": 36,
     "metadata": {},
     "output_type": "execute_result"
    }
   ],
   "source": [
    "for i, dado in enumerate(dados):\n",
    "    dados[i] = dado[1]\n",
    "dados"
   ]
  },
  {
   "cell_type": "code",
   "execution_count": 37,
   "metadata": {},
   "outputs": [],
   "source": [
    "def lista_dado(dados):\n",
    "    for i, dado in enumerate(dados):\n",
    "        dados[i] = dado[1]\n",
    "    return dados"
   ]
  },
  {
   "cell_type": "code",
   "execution_count": 38,
   "metadata": {},
   "outputs": [
    {
     "data": {
      "text/plain": [
       "['Mês de referência:',\n",
       " 'Código Fipe:',\n",
       " 'Marca:',\n",
       " 'Modelo:',\n",
       " 'Ano Modelo:',\n",
       " 'Autenticação',\n",
       " 'Data da consulta',\n",
       " 'Preço Médio']"
      ]
     },
     "execution_count": 38,
     "metadata": {},
     "output_type": "execute_result"
    }
   ],
   "source": [
    "regex_titulo= re.compile('(<td class=\"noborder\"><p>)(.*?)(</p>)')\n",
    "titulo = regex_titulo.findall(str(table))\n",
    "titulo = lista_dado(titulo)\n",
    "titulo"
   ]
  },
  {
   "cell_type": "code",
   "execution_count": 39,
   "metadata": {},
   "outputs": [],
   "source": [
    "# limpar pesquisa e fechar navegador\n",
    "esperar()\n",
    "buscar = driver.find_element_by_id(id_botao_limpar)\n",
    "buscar.click()"
   ]
  },
  {
   "cell_type": "markdown",
   "metadata": {},
   "source": [
    "## Tarefa concluída, porém ...\n",
    "\n",
    "Concluimos nosso codigo, porém como podemos buscar um grupo maior de informações?"
   ]
  },
  {
   "cell_type": "code",
   "execution_count": 41,
   "metadata": {},
   "outputs": [],
   "source": [
    "referencia_ano = driver.find_element_by_id(id_tabela_referencia)\n",
    "referencia_ano.click()"
   ]
  },
  {
   "cell_type": "code",
   "execution_count": 43,
   "metadata": {},
   "outputs": [
    {
     "data": {
      "text/plain": [
       "'<a class=\"chosen-single\" tabindex=\"-1\"><span>março/2021</span><div><b></b></div></a><div class=\"chosen-drop\"><div class=\"chosen-search\"><input type=\"text\" autocomplete=\"off\"></div><ul class=\"chosen-results\"><li class=\"active-result result-selected\" data-option-array-index=\"0\" style=\"\">março/2021 </li><li class=\"active-result\" data-option-array-index=\"1\" style=\"\">fevereiro/2021 </li><li class=\"active-result\" data-option-array-index=\"2\" style=\"\">janeiro/2021 </li><li class=\"active-result\" data-option-array-index=\"3\" style=\"\">dezembro/2020 </li><li class=\"active-result\" data-option-array-index=\"4\" style=\"\">novembro/2020 </li><li class=\"active-result\" data-option-array-index=\"5\" style=\"\">outubro/2020 </li><li class=\"active-result\" data-option-array-index=\"6\" style=\"\">setembro/2020 </li><li class=\"active-result\" data-option-array-index=\"7\" style=\"\">agosto/2020 </li><li class=\"active-result\" data-option-array-index=\"8\" style=\"\">julho/2020 </li><li class=\"active-result\" data-option-array-index=\"9\" style=\"\">junho/2020 </li><li class=\"active-result\" data-option-array-index=\"10\" style=\"\">maio/2020 </li><li class=\"active-result\" data-option-array-index=\"11\" style=\"\">abril/2020 </li><li class=\"active-result\" data-option-array-index=\"12\" style=\"\">março/2020 </li><li class=\"active-result\" data-option-array-index=\"13\" style=\"\">fevereiro/2020 </li><li class=\"active-result\" data-option-array-index=\"14\" style=\"\">janeiro/2020 </li><li class=\"active-result\" data-option-array-index=\"15\" style=\"\">dezembro/2019 </li><li class=\"active-result\" data-option-array-index=\"16\" style=\"\">novembro/2019 </li><li class=\"active-result\" data-option-array-index=\"17\" style=\"\">outubro/2019 </li><li class=\"active-result\" data-option-array-index=\"18\" style=\"\">setembro/2019 </li><li class=\"active-result\" data-option-array-index=\"19\" style=\"\">agosto/2019 </li><li class=\"active-result\" data-option-array-index=\"20\" style=\"\">julho/2019 </li><li class=\"active-result\" data-option-array-index=\"21\" style=\"\">junho/2019 </li><li class=\"active-result\" data-option-array-index=\"22\" style=\"\">maio/2019 </li><li class=\"active-result\" data-option-array-index=\"23\" style=\"\">abril/2019 </li><li class=\"active-result\" data-option-array-index=\"24\" style=\"\">março/2019 </li><li class=\"active-result\" data-option-array-index=\"25\" style=\"\">fevereiro/2019 </li><li class=\"active-result\" data-option-array-index=\"26\" style=\"\">janeiro/2019 </li><li class=\"active-result\" data-option-array-index=\"27\" style=\"\">dezembro/2018 </li><li class=\"active-result\" data-option-array-index=\"28\" style=\"\">novembro/2018 </li><li class=\"active-result\" data-option-array-index=\"29\" style=\"\">outubro/2018 </li><li class=\"active-result\" data-option-array-index=\"30\" style=\"\">setembro/2018 </li><li class=\"active-result\" data-option-array-index=\"31\" style=\"\">agosto/2018 </li><li class=\"active-result\" data-option-array-index=\"32\" style=\"\">julho/2018 </li><li class=\"active-result\" data-option-array-index=\"33\" style=\"\">junho/2018 </li><li class=\"active-result\" data-option-array-index=\"34\" style=\"\">maio/2018 </li><li class=\"active-result\" data-option-array-index=\"35\" style=\"\">abril/2018 </li><li class=\"active-result\" data-option-array-index=\"36\" style=\"\">março/2018 </li><li class=\"active-result\" data-option-array-index=\"37\" style=\"\">fevereiro/2018 </li><li class=\"active-result\" data-option-array-index=\"38\" style=\"\">janeiro/2018 </li><li class=\"active-result\" data-option-array-index=\"39\" style=\"\">dezembro/2017 </li><li class=\"active-result\" data-option-array-index=\"40\" style=\"\">novembro/2017 </li><li class=\"active-result\" data-option-array-index=\"41\" style=\"\">outubro/2017 </li><li class=\"active-result\" data-option-array-index=\"42\" style=\"\">setembro/2017 </li><li class=\"active-result\" data-option-array-index=\"43\" style=\"\">agosto/2017 </li><li class=\"active-result\" data-option-array-index=\"44\" style=\"\">julho/2017 </li><li class=\"active-result\" data-option-array-index=\"45\" style=\"\">junho/2017 </li><li class=\"active-result\" data-option-array-index=\"46\" style=\"\">maio/2017 </li><li class=\"active-result\" data-option-array-index=\"47\" style=\"\">abril/2017 </li><li class=\"active-result\" data-option-array-index=\"48\" style=\"\">março/2017 </li><li class=\"active-result\" data-option-array-index=\"49\" style=\"\">fevereiro/2017 </li><li class=\"active-result\" data-option-array-index=\"50\" style=\"\">janeiro/2017 </li><li class=\"active-result\" data-option-array-index=\"51\" style=\"\">dezembro/2016 </li><li class=\"active-result\" data-option-array-index=\"52\" style=\"\">novembro/2016 </li><li class=\"active-result\" data-option-array-index=\"53\" style=\"\">outubro/2016 </li><li class=\"active-result\" data-option-array-index=\"54\" style=\"\">setembro/2016 </li><li class=\"active-result\" data-option-array-index=\"55\" style=\"\">agosto/2016 </li><li class=\"active-result\" data-option-array-index=\"56\" style=\"\">julho/2016 </li><li class=\"active-result\" data-option-array-index=\"57\" style=\"\">junho/2016 </li><li class=\"active-result\" data-option-array-index=\"58\" style=\"\">maio/2016 </li><li class=\"active-result\" data-option-array-index=\"59\" style=\"\">abril/2016 </li><li class=\"active-result\" data-option-array-index=\"60\" style=\"\">março/2016 </li><li class=\"active-result\" data-option-array-index=\"61\" style=\"\">fevereiro/2016 </li><li class=\"active-result\" data-option-array-index=\"62\" style=\"\">janeiro/2016 </li><li class=\"active-result\" data-option-array-index=\"63\" style=\"\">dezembro/2015 </li><li class=\"active-result\" data-option-array-index=\"64\" style=\"\">novembro/2015 </li><li class=\"active-result\" data-option-array-index=\"65\" style=\"\">outubro/2015 </li><li class=\"active-result\" data-option-array-index=\"66\" style=\"\">setembro/2015 </li><li class=\"active-result\" data-option-array-index=\"67\" style=\"\">agosto/2015 </li><li class=\"active-result\" data-option-array-index=\"68\" style=\"\">julho/2015 </li><li class=\"active-result\" data-option-array-index=\"69\" style=\"\">junho/2015 </li><li class=\"active-result\" data-option-array-index=\"70\" style=\"\">maio/2015 </li><li class=\"active-result\" data-option-array-index=\"71\" style=\"\">abril/2015 </li><li class=\"active-result\" data-option-array-index=\"72\" style=\"\">março/2015 </li><li class=\"active-result\" data-option-array-index=\"73\" style=\"\">fevereiro/2015 </li><li class=\"active-result\" data-option-array-index=\"74\" style=\"\">janeiro/2015 </li><li class=\"active-result\" data-option-array-index=\"75\" style=\"\">dezembro/2014 </li><li class=\"active-result\" data-option-array-index=\"76\" style=\"\">novembro/2014 </li><li class=\"active-result\" data-option-array-index=\"77\" style=\"\">outubro/2014 </li><li class=\"active-result\" data-option-array-index=\"78\" style=\"\">setembro/2014 </li><li class=\"active-result\" data-option-array-index=\"79\" style=\"\">agosto/2014 </li><li class=\"active-result\" data-option-array-index=\"80\" style=\"\">julho/2014 </li><li class=\"active-result\" data-option-array-index=\"81\" style=\"\">junho/2014 </li><li class=\"active-result\" data-option-array-index=\"82\" style=\"\">maio/2014 </li><li class=\"active-result\" data-option-array-index=\"83\" style=\"\">abril/2014 </li><li class=\"active-result\" data-option-array-index=\"84\" style=\"\">março/2014 </li><li class=\"active-result\" data-option-array-index=\"85\" style=\"\">fevereiro/2014 </li><li class=\"active-result\" data-option-array-index=\"86\" style=\"\">janeiro/2014 </li><li class=\"active-result\" data-option-array-index=\"87\" style=\"\">dezembro/2013 </li><li class=\"active-result\" data-option-array-index=\"88\" style=\"\">novembro/2013 </li><li class=\"active-result\" data-option-array-index=\"89\" style=\"\">outubro/2013 </li><li class=\"active-result\" data-option-array-index=\"90\" style=\"\">setembro/2013 </li><li class=\"active-result\" data-option-array-index=\"91\" style=\"\">agosto/2013 </li><li class=\"active-result\" data-option-array-index=\"92\" style=\"\">julho/2013 </li><li class=\"active-result\" data-option-array-index=\"93\" style=\"\">junho/2013 </li><li class=\"active-result\" data-option-array-index=\"94\" style=\"\">maio/2013 </li><li class=\"active-result\" data-option-array-index=\"95\" style=\"\">abril/2013 </li><li class=\"active-result\" data-option-array-index=\"96\" style=\"\">março/2013 </li><li class=\"active-result\" data-option-array-index=\"97\" style=\"\">fevereiro/2013 </li><li class=\"active-result\" data-option-array-index=\"98\" style=\"\">janeiro/2013 </li><li class=\"active-result\" data-option-array-index=\"99\" style=\"\">dezembro/2012 </li><li class=\"active-result\" data-option-array-index=\"100\" style=\"\">novembro/2012 </li><li class=\"active-result\" data-option-array-index=\"101\" style=\"\">outubro/2012 </li><li class=\"active-result\" data-option-array-index=\"102\" style=\"\">setembro/2012 </li><li class=\"active-result\" data-option-array-index=\"103\" style=\"\">agosto/2012 </li><li class=\"active-result\" data-option-array-index=\"104\" style=\"\">julho/2012 </li><li class=\"active-result\" data-option-array-index=\"105\" style=\"\">junho/2012 </li><li class=\"active-result\" data-option-array-index=\"106\" style=\"\">maio/2012 </li><li class=\"active-result\" data-option-array-index=\"107\" style=\"\">abril/2012 </li><li class=\"active-result\" data-option-array-index=\"108\" style=\"\">março/2012 </li><li class=\"active-result\" data-option-array-index=\"109\" style=\"\">fevereiro/2012 </li><li class=\"active-result\" data-option-array-index=\"110\" style=\"\">janeiro/2012 </li><li class=\"active-result\" data-option-array-index=\"111\" style=\"\">dezembro/2011 </li><li class=\"active-result\" data-option-array-index=\"112\" style=\"\">novembro/2011 </li><li class=\"active-result\" data-option-array-index=\"113\" style=\"\">outubro/2011 </li><li class=\"active-result\" data-option-array-index=\"114\" style=\"\">setembro/2011 </li><li class=\"active-result\" data-option-array-index=\"115\" style=\"\">agosto/2011 </li><li class=\"active-result\" data-option-array-index=\"116\" style=\"\">julho/2011 </li><li class=\"active-result\" data-option-array-index=\"117\" style=\"\">junho/2011 </li><li class=\"active-result\" data-option-array-index=\"118\" style=\"\">maio/2011 </li><li class=\"active-result\" data-option-array-index=\"119\" style=\"\">abril/2011 </li><li class=\"active-result\" data-option-array-index=\"120\" style=\"\">março/2011 </li><li class=\"active-result\" data-option-array-index=\"121\" style=\"\">fevereiro/2011 </li><li class=\"active-result\" data-option-array-index=\"122\" style=\"\">janeiro/2011 </li><li class=\"active-result\" data-option-array-index=\"123\" style=\"\">dezembro/2010 </li><li class=\"active-result\" data-option-array-index=\"124\" style=\"\">novembro/2010 </li><li class=\"active-result\" data-option-array-index=\"125\" style=\"\">outubro/2010 </li><li class=\"active-result\" data-option-array-index=\"126\" style=\"\">setembro/2010 </li><li class=\"active-result\" data-option-array-index=\"127\" style=\"\">agosto/2010 </li><li class=\"active-result\" data-option-array-index=\"128\" style=\"\">julho/2010 </li><li class=\"active-result\" data-option-array-index=\"129\" style=\"\">junho/2010 </li><li class=\"active-result\" data-option-array-index=\"130\" style=\"\">maio/2010 </li><li class=\"active-result\" data-option-array-index=\"131\" style=\"\">abril/2010 </li><li class=\"active-result\" data-option-array-index=\"132\" style=\"\">março/2010 </li><li class=\"active-result\" data-option-array-index=\"133\" style=\"\">fevereiro/2010 </li><li class=\"active-result\" data-option-array-index=\"134\" style=\"\">janeiro/2010 </li><li class=\"active-result\" data-option-array-index=\"135\" style=\"\">dezembro/2009 </li><li class=\"active-result\" data-option-array-index=\"136\" style=\"\">novembro/2009 </li><li class=\"active-result\" data-option-array-index=\"137\" style=\"\">outubro/2009 </li><li class=\"active-result\" data-option-array-index=\"138\" style=\"\">setembro/2009 </li><li class=\"active-result\" data-option-array-index=\"139\" style=\"\">agosto/2009 </li><li class=\"active-result\" data-option-array-index=\"140\" style=\"\">julho/2009 </li><li class=\"active-result\" data-option-array-index=\"141\" style=\"\">junho/2009 </li><li class=\"active-result\" data-option-array-index=\"142\" style=\"\">maio/2009 </li><li class=\"active-result\" data-option-array-index=\"143\" style=\"\">abril/2009 </li><li class=\"active-result\" data-option-array-index=\"144\" style=\"\">março/2009 </li><li class=\"active-result\" data-option-array-index=\"145\" style=\"\">fevereiro/2009 </li><li class=\"active-result\" data-option-array-index=\"146\" style=\"\">janeiro/2009 </li><li class=\"active-result\" data-option-array-index=\"147\" style=\"\">dezembro/2008 </li><li class=\"active-result\" data-option-array-index=\"148\" style=\"\">novembro/2008 </li><li class=\"active-result\" data-option-array-index=\"149\" style=\"\">outubro/2008 </li><li class=\"active-result\" data-option-array-index=\"150\" style=\"\">setembro/2008 </li><li class=\"active-result\" data-option-array-index=\"151\" style=\"\">agosto/2008 </li><li class=\"active-result\" data-option-array-index=\"152\" style=\"\">julho/2008 </li><li class=\"active-result\" data-option-array-index=\"153\" style=\"\">junho/2008 </li><li class=\"active-result\" data-option-array-index=\"154\" style=\"\">maio/2008 </li><li class=\"active-result\" data-option-array-index=\"155\" style=\"\">abril/2008 </li><li class=\"active-result\" data-option-array-index=\"156\" style=\"\">março/2008 </li><li class=\"active-result\" data-option-array-index=\"157\" style=\"\">fevereiro/2008 </li><li class=\"active-result\" data-option-array-index=\"158\" style=\"\">janeiro/2008 </li><li class=\"active-result\" data-option-array-index=\"159\" style=\"\">dezembro/2007 </li><li class=\"active-result\" data-option-array-index=\"160\" style=\"\">novembro/2007 </li><li class=\"active-result\" data-option-array-index=\"161\" style=\"\">outubro/2007 </li><li class=\"active-result\" data-option-array-index=\"162\" style=\"\">setembro/2007 </li><li class=\"active-result\" data-option-array-index=\"163\" style=\"\">agosto/2007 </li><li class=\"active-result\" data-option-array-index=\"164\" style=\"\">julho/2007 </li><li class=\"active-result\" data-option-array-index=\"165\" style=\"\">junho/2007 </li><li class=\"active-result\" data-option-array-index=\"166\" style=\"\">maio/2007 </li><li class=\"active-result\" data-option-array-index=\"167\" style=\"\">abril/2007 </li><li class=\"active-result\" data-option-array-index=\"168\" style=\"\">março/2007 </li><li class=\"active-result\" data-option-array-index=\"169\" style=\"\">fevereiro/2007 </li><li class=\"active-result\" data-option-array-index=\"170\" style=\"\">janeiro/2007 </li><li class=\"active-result\" data-option-array-index=\"171\" style=\"\">dezembro/2006 </li><li class=\"active-result\" data-option-array-index=\"172\" style=\"\">novembro/2006 </li><li class=\"active-result\" data-option-array-index=\"173\" style=\"\">outubro/2006 </li><li class=\"active-result\" data-option-array-index=\"174\" style=\"\">setembro/2006 </li><li class=\"active-result\" data-option-array-index=\"175\" style=\"\">agosto/2006 </li><li class=\"active-result\" data-option-array-index=\"176\" style=\"\">julho/2006 </li><li class=\"active-result\" data-option-array-index=\"177\" style=\"\">junho/2006 </li><li class=\"active-result\" data-option-array-index=\"178\" style=\"\">maio/2006 </li><li class=\"active-result\" data-option-array-index=\"179\" style=\"\">abril/2006 </li><li class=\"active-result\" data-option-array-index=\"180\" style=\"\">março/2006 </li><li class=\"active-result\" data-option-array-index=\"181\" style=\"\">fevereiro/2006 </li><li class=\"active-result\" data-option-array-index=\"182\" style=\"\">janeiro/2006 </li><li class=\"active-result\" data-option-array-index=\"183\" style=\"\">dezembro/2005 </li><li class=\"active-result\" data-option-array-index=\"184\" style=\"\">novembro/2005 </li><li class=\"active-result\" data-option-array-index=\"185\" style=\"\">outubro/2005 </li><li class=\"active-result\" data-option-array-index=\"186\" style=\"\">setembro/2005 </li><li class=\"active-result\" data-option-array-index=\"187\" style=\"\">agosto/2005 </li><li class=\"active-result\" data-option-array-index=\"188\" style=\"\">julho/2005 </li><li class=\"active-result\" data-option-array-index=\"189\" style=\"\">junho/2005 </li><li class=\"active-result\" data-option-array-index=\"190\" style=\"\">maio/2005 </li><li class=\"active-result\" data-option-array-index=\"191\" style=\"\">abril/2005 </li><li class=\"active-result\" data-option-array-index=\"192\" style=\"\">março/2005 </li><li class=\"active-result\" data-option-array-index=\"193\" style=\"\">fevereiro/2005 </li><li class=\"active-result\" data-option-array-index=\"194\" style=\"\">janeiro/2005 </li><li class=\"active-result\" data-option-array-index=\"195\" style=\"\">dezembro/2004 </li><li class=\"active-result\" data-option-array-index=\"196\" style=\"\">novembro/2004 </li><li class=\"active-result\" data-option-array-index=\"197\" style=\"\">outubro/2004 </li><li class=\"active-result\" data-option-array-index=\"198\" style=\"\">setembro/2004 </li><li class=\"active-result\" data-option-array-index=\"199\" style=\"\">agosto/2004 </li><li class=\"active-result\" data-option-array-index=\"200\" style=\"\">julho/2004 </li><li class=\"active-result\" data-option-array-index=\"201\" style=\"\">junho/2004 </li><li class=\"active-result\" data-option-array-index=\"202\" style=\"\">maio/2004 </li><li class=\"active-result\" data-option-array-index=\"203\" style=\"\">abril/2004 </li><li class=\"active-result\" data-option-array-index=\"204\" style=\"\">março/2004 </li><li class=\"active-result\" data-option-array-index=\"205\" style=\"\">fevereiro/2004 </li><li class=\"active-result\" data-option-array-index=\"206\" style=\"\">janeiro/2004 </li><li class=\"active-result\" data-option-array-index=\"207\" style=\"\">dezembro/2003 </li><li class=\"active-result\" data-option-array-index=\"208\" style=\"\">novembro/2003 </li><li class=\"active-result\" data-option-array-index=\"209\" style=\"\">outubro/2003 </li><li class=\"active-result\" data-option-array-index=\"210\" style=\"\">setembro/2003 </li><li class=\"active-result\" data-option-array-index=\"211\" style=\"\">agosto/2003 </li><li class=\"active-result\" data-option-array-index=\"212\" style=\"\">julho/2003 </li><li class=\"active-result\" data-option-array-index=\"213\" style=\"\">junho/2003 </li><li class=\"active-result\" data-option-array-index=\"214\" style=\"\">maio/2003 </li><li class=\"active-result\" data-option-array-index=\"215\" style=\"\">abril/2003 </li><li class=\"active-result\" data-option-array-index=\"216\" style=\"\">março/2003 </li><li class=\"active-result\" data-option-array-index=\"217\" style=\"\">fevereiro/2003 </li><li class=\"active-result\" data-option-array-index=\"218\" style=\"\">janeiro/2003 </li><li class=\"active-result\" data-option-array-index=\"219\" style=\"\">dezembro/2002 </li><li class=\"active-result\" data-option-array-index=\"220\" style=\"\">novembro/2002 </li><li class=\"active-result\" data-option-array-index=\"221\" style=\"\">outubro/2002 </li><li class=\"active-result\" data-option-array-index=\"222\" style=\"\">setembro/2002 </li><li class=\"active-result\" data-option-array-index=\"223\" style=\"\">agosto/2002 </li><li class=\"active-result\" data-option-array-index=\"224\" style=\"\">julho/2002 </li><li class=\"active-result\" data-option-array-index=\"225\" style=\"\">junho/2002 </li><li class=\"active-result\" data-option-array-index=\"226\" style=\"\">maio/2002 </li><li class=\"active-result\" data-option-array-index=\"227\" style=\"\">abril/2002 </li><li class=\"active-result\" data-option-array-index=\"228\" style=\"\">março/2002 </li><li class=\"active-result\" data-option-array-index=\"229\" style=\"\">fevereiro/2002 </li><li class=\"active-result\" data-option-array-index=\"230\" style=\"\">janeiro/2002 </li><li class=\"active-result\" data-option-array-index=\"231\" style=\"\">dezembro/2001 </li><li class=\"active-result\" data-option-array-index=\"232\" style=\"\">novembro/2001 </li><li class=\"active-result\" data-option-array-index=\"233\" style=\"\">outubro/2001 </li><li class=\"active-result\" data-option-array-index=\"234\" style=\"\">setembro/2001 </li><li class=\"active-result\" data-option-array-index=\"235\" style=\"\">agosto/2001 </li><li class=\"active-result\" data-option-array-index=\"236\" style=\"\">julho/2001 </li><li class=\"active-result\" data-option-array-index=\"237\" style=\"\">junho/2001 </li><li class=\"active-result\" data-option-array-index=\"238\" style=\"\">maio/2001 </li><li class=\"active-result\" data-option-array-index=\"239\" style=\"\">abril/2001 </li><li class=\"active-result\" data-option-array-index=\"240\" style=\"\">março/2001 </li><li class=\"active-result\" data-option-array-index=\"241\" style=\"\">fevereiro/2001 </li><li class=\"active-result\" data-option-array-index=\"242\" style=\"\">janeiro/2001 </li></ul></div>'"
      ]
     },
     "execution_count": 43,
     "metadata": {},
     "output_type": "execute_result"
    }
   ],
   "source": [
    "# Extrai todos os dados da tabela de seleção\n",
    "html_referencia = referencia_ano.get_attribute('innerHTML')\n",
    "html_referencia"
   ]
  },
  {
   "cell_type": "code",
   "execution_count": 44,
   "metadata": {},
   "outputs": [
    {
     "data": {
      "text/plain": [
       "[('\" style=\"\">', 'março/2021', ' </li>'),\n",
       " ('\" style=\"\">', 'fevereiro/2021', ' </li>'),\n",
       " ('\" style=\"\">', 'janeiro/2021', ' </li>'),\n",
       " ('\" style=\"\">', 'dezembro/2020', ' </li>'),\n",
       " ('\" style=\"\">', 'novembro/2020', ' </li>'),\n",
       " ('\" style=\"\">', 'outubro/2020', ' </li>'),\n",
       " ('\" style=\"\">', 'setembro/2020', ' </li>'),\n",
       " ('\" style=\"\">', 'agosto/2020', ' </li>'),\n",
       " ('\" style=\"\">', 'julho/2020', ' </li>'),\n",
       " ('\" style=\"\">', 'junho/2020', ' </li>'),\n",
       " ('\" style=\"\">', 'maio/2020', ' </li>'),\n",
       " ('\" style=\"\">', 'abril/2020', ' </li>'),\n",
       " ('\" style=\"\">', 'março/2020', ' </li>'),\n",
       " ('\" style=\"\">', 'fevereiro/2020', ' </li>'),\n",
       " ('\" style=\"\">', 'janeiro/2020', ' </li>'),\n",
       " ('\" style=\"\">', 'dezembro/2019', ' </li>'),\n",
       " ('\" style=\"\">', 'novembro/2019', ' </li>'),\n",
       " ('\" style=\"\">', 'outubro/2019', ' </li>'),\n",
       " ('\" style=\"\">', 'setembro/2019', ' </li>'),\n",
       " ('\" style=\"\">', 'agosto/2019', ' </li>'),\n",
       " ('\" style=\"\">', 'julho/2019', ' </li>'),\n",
       " ('\" style=\"\">', 'junho/2019', ' </li>'),\n",
       " ('\" style=\"\">', 'maio/2019', ' </li>'),\n",
       " ('\" style=\"\">', 'abril/2019', ' </li>'),\n",
       " ('\" style=\"\">', 'março/2019', ' </li>'),\n",
       " ('\" style=\"\">', 'fevereiro/2019', ' </li>'),\n",
       " ('\" style=\"\">', 'janeiro/2019', ' </li>'),\n",
       " ('\" style=\"\">', 'dezembro/2018', ' </li>'),\n",
       " ('\" style=\"\">', 'novembro/2018', ' </li>'),\n",
       " ('\" style=\"\">', 'outubro/2018', ' </li>'),\n",
       " ('\" style=\"\">', 'setembro/2018', ' </li>'),\n",
       " ('\" style=\"\">', 'agosto/2018', ' </li>'),\n",
       " ('\" style=\"\">', 'julho/2018', ' </li>'),\n",
       " ('\" style=\"\">', 'junho/2018', ' </li>'),\n",
       " ('\" style=\"\">', 'maio/2018', ' </li>'),\n",
       " ('\" style=\"\">', 'abril/2018', ' </li>'),\n",
       " ('\" style=\"\">', 'março/2018', ' </li>'),\n",
       " ('\" style=\"\">', 'fevereiro/2018', ' </li>'),\n",
       " ('\" style=\"\">', 'janeiro/2018', ' </li>'),\n",
       " ('\" style=\"\">', 'dezembro/2017', ' </li>'),\n",
       " ('\" style=\"\">', 'novembro/2017', ' </li>'),\n",
       " ('\" style=\"\">', 'outubro/2017', ' </li>'),\n",
       " ('\" style=\"\">', 'setembro/2017', ' </li>'),\n",
       " ('\" style=\"\">', 'agosto/2017', ' </li>'),\n",
       " ('\" style=\"\">', 'julho/2017', ' </li>'),\n",
       " ('\" style=\"\">', 'junho/2017', ' </li>'),\n",
       " ('\" style=\"\">', 'maio/2017', ' </li>'),\n",
       " ('\" style=\"\">', 'abril/2017', ' </li>'),\n",
       " ('\" style=\"\">', 'março/2017', ' </li>'),\n",
       " ('\" style=\"\">', 'fevereiro/2017', ' </li>'),\n",
       " ('\" style=\"\">', 'janeiro/2017', ' </li>'),\n",
       " ('\" style=\"\">', 'dezembro/2016', ' </li>'),\n",
       " ('\" style=\"\">', 'novembro/2016', ' </li>'),\n",
       " ('\" style=\"\">', 'outubro/2016', ' </li>'),\n",
       " ('\" style=\"\">', 'setembro/2016', ' </li>'),\n",
       " ('\" style=\"\">', 'agosto/2016', ' </li>'),\n",
       " ('\" style=\"\">', 'julho/2016', ' </li>'),\n",
       " ('\" style=\"\">', 'junho/2016', ' </li>'),\n",
       " ('\" style=\"\">', 'maio/2016', ' </li>'),\n",
       " ('\" style=\"\">', 'abril/2016', ' </li>'),\n",
       " ('\" style=\"\">', 'março/2016', ' </li>'),\n",
       " ('\" style=\"\">', 'fevereiro/2016', ' </li>'),\n",
       " ('\" style=\"\">', 'janeiro/2016', ' </li>'),\n",
       " ('\" style=\"\">', 'dezembro/2015', ' </li>'),\n",
       " ('\" style=\"\">', 'novembro/2015', ' </li>'),\n",
       " ('\" style=\"\">', 'outubro/2015', ' </li>'),\n",
       " ('\" style=\"\">', 'setembro/2015', ' </li>'),\n",
       " ('\" style=\"\">', 'agosto/2015', ' </li>'),\n",
       " ('\" style=\"\">', 'julho/2015', ' </li>'),\n",
       " ('\" style=\"\">', 'junho/2015', ' </li>'),\n",
       " ('\" style=\"\">', 'maio/2015', ' </li>'),\n",
       " ('\" style=\"\">', 'abril/2015', ' </li>'),\n",
       " ('\" style=\"\">', 'março/2015', ' </li>'),\n",
       " ('\" style=\"\">', 'fevereiro/2015', ' </li>'),\n",
       " ('\" style=\"\">', 'janeiro/2015', ' </li>'),\n",
       " ('\" style=\"\">', 'dezembro/2014', ' </li>'),\n",
       " ('\" style=\"\">', 'novembro/2014', ' </li>'),\n",
       " ('\" style=\"\">', 'outubro/2014', ' </li>'),\n",
       " ('\" style=\"\">', 'setembro/2014', ' </li>'),\n",
       " ('\" style=\"\">', 'agosto/2014', ' </li>'),\n",
       " ('\" style=\"\">', 'julho/2014', ' </li>'),\n",
       " ('\" style=\"\">', 'junho/2014', ' </li>'),\n",
       " ('\" style=\"\">', 'maio/2014', ' </li>'),\n",
       " ('\" style=\"\">', 'abril/2014', ' </li>'),\n",
       " ('\" style=\"\">', 'março/2014', ' </li>'),\n",
       " ('\" style=\"\">', 'fevereiro/2014', ' </li>'),\n",
       " ('\" style=\"\">', 'janeiro/2014', ' </li>'),\n",
       " ('\" style=\"\">', 'dezembro/2013', ' </li>'),\n",
       " ('\" style=\"\">', 'novembro/2013', ' </li>'),\n",
       " ('\" style=\"\">', 'outubro/2013', ' </li>'),\n",
       " ('\" style=\"\">', 'setembro/2013', ' </li>'),\n",
       " ('\" style=\"\">', 'agosto/2013', ' </li>'),\n",
       " ('\" style=\"\">', 'julho/2013', ' </li>'),\n",
       " ('\" style=\"\">', 'junho/2013', ' </li>'),\n",
       " ('\" style=\"\">', 'maio/2013', ' </li>'),\n",
       " ('\" style=\"\">', 'abril/2013', ' </li>'),\n",
       " ('\" style=\"\">', 'março/2013', ' </li>'),\n",
       " ('\" style=\"\">', 'fevereiro/2013', ' </li>'),\n",
       " ('\" style=\"\">', 'janeiro/2013', ' </li>'),\n",
       " ('\" style=\"\">', 'dezembro/2012', ' </li>'),\n",
       " ('\" style=\"\">', 'novembro/2012', ' </li>'),\n",
       " ('\" style=\"\">', 'outubro/2012', ' </li>'),\n",
       " ('\" style=\"\">', 'setembro/2012', ' </li>'),\n",
       " ('\" style=\"\">', 'agosto/2012', ' </li>'),\n",
       " ('\" style=\"\">', 'julho/2012', ' </li>'),\n",
       " ('\" style=\"\">', 'junho/2012', ' </li>'),\n",
       " ('\" style=\"\">', 'maio/2012', ' </li>'),\n",
       " ('\" style=\"\">', 'abril/2012', ' </li>'),\n",
       " ('\" style=\"\">', 'março/2012', ' </li>'),\n",
       " ('\" style=\"\">', 'fevereiro/2012', ' </li>'),\n",
       " ('\" style=\"\">', 'janeiro/2012', ' </li>'),\n",
       " ('\" style=\"\">', 'dezembro/2011', ' </li>'),\n",
       " ('\" style=\"\">', 'novembro/2011', ' </li>'),\n",
       " ('\" style=\"\">', 'outubro/2011', ' </li>'),\n",
       " ('\" style=\"\">', 'setembro/2011', ' </li>'),\n",
       " ('\" style=\"\">', 'agosto/2011', ' </li>'),\n",
       " ('\" style=\"\">', 'julho/2011', ' </li>'),\n",
       " ('\" style=\"\">', 'junho/2011', ' </li>'),\n",
       " ('\" style=\"\">', 'maio/2011', ' </li>'),\n",
       " ('\" style=\"\">', 'abril/2011', ' </li>'),\n",
       " ('\" style=\"\">', 'março/2011', ' </li>'),\n",
       " ('\" style=\"\">', 'fevereiro/2011', ' </li>'),\n",
       " ('\" style=\"\">', 'janeiro/2011', ' </li>'),\n",
       " ('\" style=\"\">', 'dezembro/2010', ' </li>'),\n",
       " ('\" style=\"\">', 'novembro/2010', ' </li>'),\n",
       " ('\" style=\"\">', 'outubro/2010', ' </li>'),\n",
       " ('\" style=\"\">', 'setembro/2010', ' </li>'),\n",
       " ('\" style=\"\">', 'agosto/2010', ' </li>'),\n",
       " ('\" style=\"\">', 'julho/2010', ' </li>'),\n",
       " ('\" style=\"\">', 'junho/2010', ' </li>'),\n",
       " ('\" style=\"\">', 'maio/2010', ' </li>'),\n",
       " ('\" style=\"\">', 'abril/2010', ' </li>'),\n",
       " ('\" style=\"\">', 'março/2010', ' </li>'),\n",
       " ('\" style=\"\">', 'fevereiro/2010', ' </li>'),\n",
       " ('\" style=\"\">', 'janeiro/2010', ' </li>'),\n",
       " ('\" style=\"\">', 'dezembro/2009', ' </li>'),\n",
       " ('\" style=\"\">', 'novembro/2009', ' </li>'),\n",
       " ('\" style=\"\">', 'outubro/2009', ' </li>'),\n",
       " ('\" style=\"\">', 'setembro/2009', ' </li>'),\n",
       " ('\" style=\"\">', 'agosto/2009', ' </li>'),\n",
       " ('\" style=\"\">', 'julho/2009', ' </li>'),\n",
       " ('\" style=\"\">', 'junho/2009', ' </li>'),\n",
       " ('\" style=\"\">', 'maio/2009', ' </li>'),\n",
       " ('\" style=\"\">', 'abril/2009', ' </li>'),\n",
       " ('\" style=\"\">', 'março/2009', ' </li>'),\n",
       " ('\" style=\"\">', 'fevereiro/2009', ' </li>'),\n",
       " ('\" style=\"\">', 'janeiro/2009', ' </li>'),\n",
       " ('\" style=\"\">', 'dezembro/2008', ' </li>'),\n",
       " ('\" style=\"\">', 'novembro/2008', ' </li>'),\n",
       " ('\" style=\"\">', 'outubro/2008', ' </li>'),\n",
       " ('\" style=\"\">', 'setembro/2008', ' </li>'),\n",
       " ('\" style=\"\">', 'agosto/2008', ' </li>'),\n",
       " ('\" style=\"\">', 'julho/2008', ' </li>'),\n",
       " ('\" style=\"\">', 'junho/2008', ' </li>'),\n",
       " ('\" style=\"\">', 'maio/2008', ' </li>'),\n",
       " ('\" style=\"\">', 'abril/2008', ' </li>'),\n",
       " ('\" style=\"\">', 'março/2008', ' </li>'),\n",
       " ('\" style=\"\">', 'fevereiro/2008', ' </li>'),\n",
       " ('\" style=\"\">', 'janeiro/2008', ' </li>'),\n",
       " ('\" style=\"\">', 'dezembro/2007', ' </li>'),\n",
       " ('\" style=\"\">', 'novembro/2007', ' </li>'),\n",
       " ('\" style=\"\">', 'outubro/2007', ' </li>'),\n",
       " ('\" style=\"\">', 'setembro/2007', ' </li>'),\n",
       " ('\" style=\"\">', 'agosto/2007', ' </li>'),\n",
       " ('\" style=\"\">', 'julho/2007', ' </li>'),\n",
       " ('\" style=\"\">', 'junho/2007', ' </li>'),\n",
       " ('\" style=\"\">', 'maio/2007', ' </li>'),\n",
       " ('\" style=\"\">', 'abril/2007', ' </li>'),\n",
       " ('\" style=\"\">', 'março/2007', ' </li>'),\n",
       " ('\" style=\"\">', 'fevereiro/2007', ' </li>'),\n",
       " ('\" style=\"\">', 'janeiro/2007', ' </li>'),\n",
       " ('\" style=\"\">', 'dezembro/2006', ' </li>'),\n",
       " ('\" style=\"\">', 'novembro/2006', ' </li>'),\n",
       " ('\" style=\"\">', 'outubro/2006', ' </li>'),\n",
       " ('\" style=\"\">', 'setembro/2006', ' </li>'),\n",
       " ('\" style=\"\">', 'agosto/2006', ' </li>'),\n",
       " ('\" style=\"\">', 'julho/2006', ' </li>'),\n",
       " ('\" style=\"\">', 'junho/2006', ' </li>'),\n",
       " ('\" style=\"\">', 'maio/2006', ' </li>'),\n",
       " ('\" style=\"\">', 'abril/2006', ' </li>'),\n",
       " ('\" style=\"\">', 'março/2006', ' </li>'),\n",
       " ('\" style=\"\">', 'fevereiro/2006', ' </li>'),\n",
       " ('\" style=\"\">', 'janeiro/2006', ' </li>'),\n",
       " ('\" style=\"\">', 'dezembro/2005', ' </li>'),\n",
       " ('\" style=\"\">', 'novembro/2005', ' </li>'),\n",
       " ('\" style=\"\">', 'outubro/2005', ' </li>'),\n",
       " ('\" style=\"\">', 'setembro/2005', ' </li>'),\n",
       " ('\" style=\"\">', 'agosto/2005', ' </li>'),\n",
       " ('\" style=\"\">', 'julho/2005', ' </li>'),\n",
       " ('\" style=\"\">', 'junho/2005', ' </li>'),\n",
       " ('\" style=\"\">', 'maio/2005', ' </li>'),\n",
       " ('\" style=\"\">', 'abril/2005', ' </li>'),\n",
       " ('\" style=\"\">', 'março/2005', ' </li>'),\n",
       " ('\" style=\"\">', 'fevereiro/2005', ' </li>'),\n",
       " ('\" style=\"\">', 'janeiro/2005', ' </li>'),\n",
       " ('\" style=\"\">', 'dezembro/2004', ' </li>'),\n",
       " ('\" style=\"\">', 'novembro/2004', ' </li>'),\n",
       " ('\" style=\"\">', 'outubro/2004', ' </li>'),\n",
       " ('\" style=\"\">', 'setembro/2004', ' </li>'),\n",
       " ('\" style=\"\">', 'agosto/2004', ' </li>'),\n",
       " ('\" style=\"\">', 'julho/2004', ' </li>'),\n",
       " ('\" style=\"\">', 'junho/2004', ' </li>'),\n",
       " ('\" style=\"\">', 'maio/2004', ' </li>'),\n",
       " ('\" style=\"\">', 'abril/2004', ' </li>'),\n",
       " ('\" style=\"\">', 'março/2004', ' </li>'),\n",
       " ('\" style=\"\">', 'fevereiro/2004', ' </li>'),\n",
       " ('\" style=\"\">', 'janeiro/2004', ' </li>'),\n",
       " ('\" style=\"\">', 'dezembro/2003', ' </li>'),\n",
       " ('\" style=\"\">', 'novembro/2003', ' </li>'),\n",
       " ('\" style=\"\">', 'outubro/2003', ' </li>'),\n",
       " ('\" style=\"\">', 'setembro/2003', ' </li>'),\n",
       " ('\" style=\"\">', 'agosto/2003', ' </li>'),\n",
       " ('\" style=\"\">', 'julho/2003', ' </li>'),\n",
       " ('\" style=\"\">', 'junho/2003', ' </li>'),\n",
       " ('\" style=\"\">', 'maio/2003', ' </li>'),\n",
       " ('\" style=\"\">', 'abril/2003', ' </li>'),\n",
       " ('\" style=\"\">', 'março/2003', ' </li>'),\n",
       " ('\" style=\"\">', 'fevereiro/2003', ' </li>'),\n",
       " ('\" style=\"\">', 'janeiro/2003', ' </li>'),\n",
       " ('\" style=\"\">', 'dezembro/2002', ' </li>'),\n",
       " ('\" style=\"\">', 'novembro/2002', ' </li>'),\n",
       " ('\" style=\"\">', 'outubro/2002', ' </li>'),\n",
       " ('\" style=\"\">', 'setembro/2002', ' </li>'),\n",
       " ('\" style=\"\">', 'agosto/2002', ' </li>'),\n",
       " ('\" style=\"\">', 'julho/2002', ' </li>'),\n",
       " ('\" style=\"\">', 'junho/2002', ' </li>'),\n",
       " ('\" style=\"\">', 'maio/2002', ' </li>'),\n",
       " ('\" style=\"\">', 'abril/2002', ' </li>'),\n",
       " ('\" style=\"\">', 'março/2002', ' </li>'),\n",
       " ('\" style=\"\">', 'fevereiro/2002', ' </li>'),\n",
       " ('\" style=\"\">', 'janeiro/2002', ' </li>'),\n",
       " ('\" style=\"\">', 'dezembro/2001', ' </li>'),\n",
       " ('\" style=\"\">', 'novembro/2001', ' </li>'),\n",
       " ('\" style=\"\">', 'outubro/2001', ' </li>'),\n",
       " ('\" style=\"\">', 'setembro/2001', ' </li>'),\n",
       " ('\" style=\"\">', 'agosto/2001', ' </li>'),\n",
       " ('\" style=\"\">', 'julho/2001', ' </li>'),\n",
       " ('\" style=\"\">', 'junho/2001', ' </li>'),\n",
       " ('\" style=\"\">', 'maio/2001', ' </li>'),\n",
       " ('\" style=\"\">', 'abril/2001', ' </li>'),\n",
       " ('\" style=\"\">', 'março/2001', ' </li>'),\n",
       " ('\" style=\"\">', 'fevereiro/2001', ' </li>'),\n",
       " ('\" style=\"\">', 'janeiro/2001', ' </li>')]"
      ]
     },
     "execution_count": 44,
     "metadata": {},
     "output_type": "execute_result"
    }
   ],
   "source": [
    "re_anos = re.compile(r'(\" style=\"\">)(.*?)( </li>)')\n",
    "lista_periodos = re_anos.findall(str(html_referencia))\n",
    "lista_periodos"
   ]
  },
  {
   "cell_type": "code",
   "execution_count": 45,
   "metadata": {},
   "outputs": [
    {
     "data": {
      "text/plain": [
       "{'periodo': 'março/2021', 'mes': 'março', 'ano': '2021'}"
      ]
     },
     "execution_count": 45,
     "metadata": {},
     "output_type": "execute_result"
    }
   ],
   "source": [
    "#criando um dicionario de periodos\n",
    "periodos = []\n",
    "for periodo in lista_periodos:\n",
    "    periodo = periodo[1]\n",
    "    mes, ano =  periodo.split('/')\n",
    "    periodos.append({'periodo' : periodo, 'mes' : mes, 'ano' : ano})\n",
    "periodos[0]"
   ]
  },
  {
   "cell_type": "code",
   "execution_count": 46,
   "metadata": {},
   "outputs": [],
   "source": [
    "#Criando função de click \n",
    "def click_item_id(id_item):\n",
    "    item = driver.find_element_by_id(id_item)\n",
    "    item.click()\n",
    "    item.is_selecteds = False"
   ]
  },
  {
   "cell_type": "code",
   "execution_count": 47,
   "metadata": {},
   "outputs": [
    {
     "name": "stdout",
     "output_type": "stream",
     "text": [
      "março/2021\n",
      "fevereiro/2021\n",
      "janeiro/2021\n"
     ]
    }
   ],
   "source": [
    "#juntando tudo\n",
    "lista_table = []\n",
    "for periodo in periodos:\n",
    "    if int(periodo['ano']) >= 2021:\n",
    "        periodo_referencia = periodo['periodo']\n",
    "        print(periodo_referencia)\n",
    "        esperar()\n",
    "        click_item_id(id_tabela_referencia)\n",
    "        esperar()\n",
    "        prechence_item(id_tabela_referencia, periodo_referencia)\n",
    "        esperar()\n",
    "        prechence_item(id_marca_carro, marca_veiculo)\n",
    "        esperar()\n",
    "        prechence_item(id_modelo_carro, modelo_veiculo)\n",
    "        esperar()\n",
    "        prechence_item(id_ano_carro, ano_veiculo)\n",
    "        esperar()\n",
    "        click_item_id(id_botao_pesquisa)\n",
    "        esperar()\n",
    "        table = driver.find_element_by_id(id_resultado_filtros)\n",
    "        html = table.get_attribute('innerHTML')\n",
    "        parser = BeautifulSoup(html, \"html.parser\")\n",
    "        table = parser.select_one('tbody')\n",
    "        dados = regex_dados.findall(str(table))\n",
    "        dados = lista_dado(dados)\n",
    "        lista_table.append(dados)\n",
    "        click_item_id(id_botao_limpar)"
   ]
  },
  {
   "cell_type": "code",
   "execution_count": 48,
   "metadata": {},
   "outputs": [
    {
     "data": {
      "text/plain": [
       "['Mês de referência:',\n",
       " 'Código Fipe:',\n",
       " 'Marca:',\n",
       " 'Modelo:',\n",
       " 'Ano Modelo:',\n",
       " 'Autenticação',\n",
       " 'Data da consulta',\n",
       " 'Preço Médio']"
      ]
     },
     "execution_count": 48,
     "metadata": {},
     "output_type": "execute_result"
    }
   ],
   "source": [
    "regex_titulo= re.compile('(<td class=\"noborder\"><p>)(.*?)(</p>)')\n",
    "titulo = regex_titulo.findall(str(table))\n",
    "titulo = lista_dado(titulo)\n",
    "titulo"
   ]
  },
  {
   "cell_type": "code",
   "execution_count": 49,
   "metadata": {},
   "outputs": [],
   "source": [
    "#Lendo dados\n",
    "import pandas as pd\n",
    "\n",
    "df = pd.DataFrame(lista_table,columns=titulo)"
   ]
  },
  {
   "cell_type": "code",
   "execution_count": 50,
   "metadata": {},
   "outputs": [
    {
     "data": {
      "text/html": [
       "<div>\n",
       "<style scoped>\n",
       "    .dataframe tbody tr th:only-of-type {\n",
       "        vertical-align: middle;\n",
       "    }\n",
       "\n",
       "    .dataframe tbody tr th {\n",
       "        vertical-align: top;\n",
       "    }\n",
       "\n",
       "    .dataframe thead th {\n",
       "        text-align: right;\n",
       "    }\n",
       "</style>\n",
       "<table border=\"1\" class=\"dataframe\">\n",
       "  <thead>\n",
       "    <tr style=\"text-align: right;\">\n",
       "      <th></th>\n",
       "      <th>Mês de referência:</th>\n",
       "      <th>Código Fipe:</th>\n",
       "      <th>Marca:</th>\n",
       "      <th>Modelo:</th>\n",
       "      <th>Ano Modelo:</th>\n",
       "      <th>Autenticação</th>\n",
       "      <th>Data da consulta</th>\n",
       "      <th>Preço Médio</th>\n",
       "    </tr>\n",
       "  </thead>\n",
       "  <tbody>\n",
       "    <tr>\n",
       "      <th>0</th>\n",
       "      <td>março de 2021</td>\n",
       "      <td>005275-2</td>\n",
       "      <td>VW - VolksWagen</td>\n",
       "      <td>Gol (novo) 1.0 Mi Total Flex 8V 4p</td>\n",
       "      <td>2013 Gasolina</td>\n",
       "      <td>mdc4zpkqnsnc</td>\n",
       "      <td>terça-feira, 30 de março de 2021 21:56</td>\n",
       "      <td>R$ 23.971,00</td>\n",
       "    </tr>\n",
       "    <tr>\n",
       "      <th>1</th>\n",
       "      <td>fevereiro de 2021</td>\n",
       "      <td>005275-2</td>\n",
       "      <td>VW - VolksWagen</td>\n",
       "      <td>Gol (novo) 1.0 Mi Total Flex 8V 4p</td>\n",
       "      <td>2013 Gasolina</td>\n",
       "      <td>l7sn2y2ymxnc</td>\n",
       "      <td>terça-feira, 30 de março de 2021 21:57</td>\n",
       "      <td>R$ 23.579,00</td>\n",
       "    </tr>\n",
       "    <tr>\n",
       "      <th>2</th>\n",
       "      <td>janeiro de 2021</td>\n",
       "      <td>005275-2</td>\n",
       "      <td>VW - VolksWagen</td>\n",
       "      <td>Gol (novo) 1.0 Mi Total Flex 8V 4p</td>\n",
       "      <td>2013 Gasolina</td>\n",
       "      <td>l44jl26s9tnc</td>\n",
       "      <td>terça-feira, 30 de março de 2021 21:57</td>\n",
       "      <td>R$ 23.353,00</td>\n",
       "    </tr>\n",
       "  </tbody>\n",
       "</table>\n",
       "</div>"
      ],
      "text/plain": [
       "   Mês de referência: Código Fipe:           Marca:  \\\n",
       "0      março de 2021      005275-2  VW - VolksWagen   \n",
       "1  fevereiro de 2021      005275-2  VW - VolksWagen   \n",
       "2    janeiro de 2021      005275-2  VW - VolksWagen   \n",
       "\n",
       "                              Modelo:    Ano Modelo:  Autenticação  \\\n",
       "0  Gol (novo) 1.0 Mi Total Flex 8V 4p  2013 Gasolina  mdc4zpkqnsnc   \n",
       "1  Gol (novo) 1.0 Mi Total Flex 8V 4p  2013 Gasolina  l7sn2y2ymxnc   \n",
       "2  Gol (novo) 1.0 Mi Total Flex 8V 4p  2013 Gasolina  l44jl26s9tnc   \n",
       "\n",
       "                         Data da consulta   Preço Médio  \n",
       "0  terça-feira, 30 de março de 2021 21:56  R$ 23.971,00  \n",
       "1  terça-feira, 30 de março de 2021 21:57  R$ 23.579,00  \n",
       "2  terça-feira, 30 de março de 2021 21:57  R$ 23.353,00  "
      ]
     },
     "execution_count": 50,
     "metadata": {},
     "output_type": "execute_result"
    }
   ],
   "source": [
    "df"
   ]
  },
  {
   "cell_type": "code",
   "execution_count": 51,
   "metadata": {},
   "outputs": [],
   "source": [
    "# Fechando o web browser\n",
    "driver.quit()"
   ]
  },
  {
   "cell_type": "code",
   "execution_count": 52,
   "metadata": {},
   "outputs": [],
   "source": [
    "#Exportando os dados para um arquivo csv\n",
    "df.to_csv('dados_gol_2021.csv', sep=';', encoding='latin1')"
   ]
  },
  {
   "cell_type": "code",
   "execution_count": null,
   "metadata": {},
   "outputs": [],
   "source": []
  }
 ],
 "metadata": {
  "kernelspec": {
   "display_name": "Python 3",
   "language": "python",
   "name": "python3"
  },
  "language_info": {
   "codemirror_mode": {
    "name": "ipython",
    "version": 3
   },
   "file_extension": ".py",
   "mimetype": "text/x-python",
   "name": "python",
   "nbconvert_exporter": "python",
   "pygments_lexer": "ipython3",
   "version": "3.7.6"
  }
 },
 "nbformat": 4,
 "nbformat_minor": 4
}
