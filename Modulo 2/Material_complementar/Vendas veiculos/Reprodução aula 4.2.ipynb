{
 "cells": [
  {
   "cell_type": "markdown",
   "metadata": {},
   "source": [
    "#### Neste exercício vamos pegar vários arquivos separados de vendas, e unifica-los em uma única base de dados"
   ]
  },
  {
   "cell_type": "code",
   "execution_count": 1,
   "metadata": {},
   "outputs": [],
   "source": [
    "#Importando Biblioteca Pandas\n",
    "import pandas as pd\n",
    "#Importanto bibliotecas e funções do sistema operação\n",
    "import os"
   ]
  },
  {
   "cell_type": "code",
   "execution_count": 2,
   "metadata": {},
   "outputs": [],
   "source": [
    "#Criando uma variável que será utilizada para substituir o caminho até os arquivos\n",
    "diretorio = \"/Users/macbook/Documents/Projects Github/IGTI/Modulo 2/Material_complementar/Vendas veiculos/dataset/vendas_veiculos/\""
   ]
  },
  {
   "cell_type": "code",
   "execution_count": null,
   "metadata": {},
   "outputs": [],
   "source": [
    "#Criando uma lista para armazenar os arquivos das bases de dados\n",
    "lista_df = []\n"
   ]
  }
 ],
 "metadata": {
  "kernelspec": {
   "display_name": "Python 3",
   "language": "python",
   "name": "python3"
  },
  "language_info": {
   "codemirror_mode": {
    "name": "ipython",
    "version": 3
   },
   "file_extension": ".py",
   "mimetype": "text/x-python",
   "name": "python",
   "nbconvert_exporter": "python",
   "pygments_lexer": "ipython3",
   "version": "3.7.6"
  }
 },
 "nbformat": 4,
 "nbformat_minor": 4
}
